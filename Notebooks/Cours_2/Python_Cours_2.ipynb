{
 "cells": [
  {
   "cell_type": "markdown",
   "metadata": {},
   "source": [
    "# Optimisation et présentation des résultats\n",
    "\n",
    "Nous allons commencer a travailler avec des données numériques en utilisant la librarie **numpy**, à résoudre des problèmes simples d'optimisation numériques en utilisant la librarie **scipy** et en particulier les fonctions de **scipy.optimize**, et enfin nous présenterons les résutats sous forme \"textuelle\" avec la fonction **print**, et de graphiques avec **matplotlib**.\n",
    "\n",
    "## Références:\n",
    "\n",
    "- print: [exemples](https://www.python-course.eu/python3_formatted_output.php) (détaillés)\n",
    "- numpy: [tutoriel détaillé](https://www.python-course.eu/numpy.php)\n",
    "- matplotlib: [exemples](https://matplotlib.org/stable/tutorials/introductory/sample_plots.html), [documentation](https://matplotlib.org/stable/users/index.html), [styles](https://matplotlib.org/3.1.0/gallery/style_sheets/style_sheets_reference.html)\n",
    "- scipy-optimize: [documentation](https://docs.scipy.org/doc/scipy/reference/optimize.html)\n",
    "$\\def\\R{\\mathbb{R}}$"
   ]
  },
  {
   "cell_type": "markdown",
   "metadata": {},
   "source": [
    "# 1. Le problème de choix du consommateur\n",
    "\n",
    "Nous allons considérer un consommateur dont les préférences en matière de consommation sont représentées par une fonction d'utilité,\n",
    "$\n",
    "\\begin{align*}\n",
    "u(q_1, q_2): \\R_{+}^2 &\\rightarrow \\R.\n",
    "\\end{align*}\n",
    "$\n",
    "\n",
    "On considère ainsi le cadre de paniers de biens à deux composantes. D'autre part, nous supposons que le consommateur dispose d'un revenu $R$ déterminé de façon exogène par rapport à son choix de consommation. Enfin le vecteur de prix $p = (p_1, p_2)$ est aussi exogène, le consommateur le considérant comme donné.\n",
    "\n",
    "Le problème de choix du consommateur consiste à déterminer le panier *optimal* $q^* = (q_1^*, q_2^*)$ au sens où il maximise son utilité sous sa contrainte de budjet. Formellement,\n",
    "\n",
    "$\n",
    "\\begin{align*}\n",
    "V(p_1,p_2, R) &= \\max_{q_1, q_2} u(q_1, q_2)\\\\\n",
    "&s.c.,\\\\\n",
    "p_1q_1 + p_2q_2\\leq R,& \\quad p_1, p_2, R > 0,\\\\\n",
    "% &q_1, q_2 \\geq 0\n",
    "\\end{align*}\n",
    "$\n",
    "\n",
    "## Exemple: fonction d'utilité Cobb-Douglas.\n",
    "\n",
    "Dans cet exemple $u(\\cdot)$ est donnée par,\n",
    "\n",
    "$\n",
    "\\begin{align*}\n",
    "u(q_1, q_2) &= q_1^\\alpha q_2^{1-\\alpha}, \\quad \\alpha \\in (0, 1).\n",
    "\\end{align*}\n",
    "$\n",
    "\n",
    "Les solutions optimales sont ici:\n",
    "\n",
    "$\n",
    "\\begin{align*}\n",
    "q^{*}_1 &= \\alpha\\frac{R}{p_1},\\\\\n",
    "q^{*}_2 &= (1-\\alpha)\\frac{R}{p_2}.\n",
    "\\end{align*}\n",
    "$\n",
    "\n",
    "$q^*_1$, et $q^*_2$ sont des fonctions des prix des biens, et du revenu, qu'on appelle *fonctions de demande*, et que l'on note respectivement $q_1^d(p, R)$, et $q_2^d(p, R)$."
   ]
  },
  {
   "cell_type": "markdown",
   "metadata": {},
   "source": [
    "# 2. Calcul numérique avec numpy"
   ]
  },
  {
   "cell_type": "code",
   "execution_count": null,
   "metadata": {},
   "outputs": [],
   "source": [
    "import numpy as np # importation de la bibliothèque numpy."
   ]
  },
  {
   "cell_type": "markdown",
   "metadata": {},
   "source": [
    "## L'**Array** numpy\n",
    "\n",
    "Un array de numpy est semblable à une liste avec cependant les deux différences suivantes:\n",
    "\n",
    "1. Les éléments sont homogènes.\n",
    "2. Une opération de *slicing* sur un array produit une \"vue\"(à *view*) de celui-ci plutôt que d'extraire du contenu."
   ]
  },
  {
   "cell_type": "markdown",
   "metadata": {},
   "source": [
    "## Les bases\n",
    "\n",
    "Un array numpy peut être crée à partir d'une liste et être multidimensionel."
   ]
  },
  {
   "cell_type": "code",
   "execution_count": null,
   "metadata": {},
   "outputs": [],
   "source": [
    "A = np.array([0, 1, 2, 3, 4, 5, 6, 7, 8, 9]) # une dimension\n",
    "B = np.array([[3.4, 8.7, 9.9], \n",
    "              [1.1, -7.8, -0.7],\n",
    "              [4.1, 12.3, 4.8]]) # deux dimensions\n",
    "\n",
    "print(type(A),type(B)) # type\n",
    "print(A.dtype,B.dtype) # le type des éléments dans les array\n",
    "print(A.ndim,B.ndim) # dimensions\n",
    "print(A.shape,B.shape) # \"shape\" ou format (e.g, 1d: nombre d'éléments, 2d: nombre de lignes x nombre de colonnes)\n",
    "print(A.size,B.size) # taille(i.e., nombre d'élèments)"
   ]
  },
  {
   "cell_type": "markdown",
   "metadata": {},
   "source": [
    "Le **Slicing** sur un array produit une vue de celui-ci:\n",
    "\n",
    "\n"
   ]
  },
  {
   "cell_type": "code",
   "execution_count": null,
   "metadata": {},
   "outputs": [],
   "source": [
    "A = np.array([0, 1, 2, 3, 4, 5, 6, 7, 8, 9])\n",
    "B = A.copy() # B est une copie de A\n",
    "C = A[2:6] # C obtenu par slicing sur A produit une vue de A\n",
    "C[0] = 0\n",
    "C[1] = 0\n",
    "print(A) # A est modifié\n",
    "print(B) # B ne l'est pas"
   ]
  },
  {
   "cell_type": "markdown",
   "metadata": {},
   "source": [
    "Les array numpy peuvent être créés aussi en appliquant des fonction numpy"
   ]
  },
  {
   "cell_type": "code",
   "execution_count": null,
   "metadata": {},
   "outputs": [],
   "source": [
    "print(np.ones((2,3))) # array rempli de 1\n",
    "print(np.zeros((4,2))) # array rempli de zéros\n",
    "print(np.full((3, 5), 3.14)) # array rempli d'un nombre désiré\n",
    "print(np.linspace(0,1,6)) # suite: interpolation linéaire entre deux bornes\n",
    "print(np.arange(0, 10)) # suite de nombres équidistants.\n",
    "print(np.eye(3)) # array sous forme d'une matrice identité"
   ]
  },
  {
   "cell_type": "markdown",
   "metadata": {},
   "source": [
    "**Remarque**: dans les fonctions précédentes on peut ajouter un argument dtype pour contraindre le type du array(int, ou float)."
   ]
  },
  {
   "cell_type": "code",
   "execution_count": null,
   "metadata": {},
   "outputs": [],
   "source": [
    "print(np.ones((2,3), dtype=int)) # array rempli de 1\n",
    "print(np.zeros((4,2), dtype=int)) # array rempli de zéros"
   ]
  },
  {
   "cell_type": "markdown",
   "metadata": {},
   "source": [
    "## Opérations mathématiques sur les array"
   ]
  },
  {
   "cell_type": "code",
   "execution_count": null,
   "metadata": {},
   "outputs": [],
   "source": [
    "A = np.array([[1,0],[0,1]])\n",
    "B = np.array([[2,2],[2,2]])\n",
    "\n",
    "print(A,'\\n')\n",
    "print(B, '\\n')\n",
    "print(A + B,'\\n')\n",
    "print(A - B,'\\n')\n",
    "print(A * B,'\\n') # produit élément par élément\n",
    "print(A / B,'\\n') # division élément par élément\n",
    "print(A @ B,'\\n') # produit matriciel"
   ]
  },
  {
   "cell_type": "markdown",
   "metadata": {},
   "source": [
    "Lorsque les arrays n'ont pas le même format le **broadcasting** est utilisé dans certains cas. Voici un exemple avec la multiplication:"
   ]
  },
  {
   "cell_type": "code",
   "execution_count": null,
   "metadata": {},
   "outputs": [],
   "source": [
    "A = np.array([ [10, 20, 30], [40, 50, 60] ]) # format = (2,3) \n",
    "B = np.array([1, 2, 3]) # format = (3,) = (1,3)\n",
    "C = np.array([[1],[2]]) # format = (2,1)\n",
    "\n",
    "\n",
    "print(A, A.shape, '\\n')\n",
    "print(B, B.shape, '\\n') # on remarque la transformation du format en vecteur colonne!\n",
    "print(C, C.shape, '\\n') \n",
    "\n",
    "print(A*B,'\\n') # chaque ligne est multipliée par B\n",
    "print(A*C,'\\n') # chaque colonne est multipliée par C"
   ]
  },
  {
   "cell_type": "markdown",
   "metadata": {},
   "source": [
    "Si l'on veut e.g. additionner deux arrays et que le broadcasting est impossible on peut utiliser **np.newaxis**:"
   ]
  },
  {
   "cell_type": "code",
   "execution_count": null,
   "metadata": {},
   "outputs": [],
   "source": [
    "A = np.array([1, 2, 3]) # array 1D, shape = (3,)\n",
    "B = np.array([1,2]) # array 1D, shape = (2,)\n",
    "\n",
    "#  B ne peut être broadcasté sur  A, car aucun des deux n'a deux dimensions.\n",
    "# Utilisons à la place newaxis\n",
    "print(A[:,np.newaxis], A[:,np.newaxis].shape, '\\n') # maintenant (3,1)\n",
    "print(B[np.newaxis,:], B[np.newaxis,:].shape, '\\n') # maintenant (1,2)\n",
    "\n",
    "print(A[:,np.newaxis]*B[np.newaxis,:], '\\n') # A est un vecteur colonne, B est un vecteur ligne\n",
    "print(A[np.newaxis,:]*B[:,np.newaxis]) # A est un vecteur ligne, B est un vecteur colonne"
   ]
  },
  {
   "cell_type": "markdown",
   "metadata": {},
   "source": [
    "**Règle général du broadcasting**: Les arrays peuvent être additionnés/soustraits/multipliés/divisés si dans toutes leurs dimensions ils ont les mêmes tailles, ou l'une d'elles a une taille de 1. Si les arrays diffèrent dans le nombre de leurs dimensions.\n",
    "\n"
   ]
  },
  {
   "cell_type": "markdown",
   "metadata": {},
   "source": [
    "**Plus sur le broadcasting:** \n",
    "- [Documentation](https://docs.scipy.org/doc/numpy-1.13.0/user/basics.broadc,asting.html),\n",
    "- [ici aussi](https://jakevdp.github.io/PythonDataScienceHandbook/02),\n",
    "- [ou ici](https://docs.scipy.org/doc/numpy-1.13.0/user/basics.broadcasting.html)."
   ]
  },
  {
   "cell_type": "markdown",
   "metadata": {},
   "source": [
    "**Exercice**: considérons le code suivant qui emploi le broadcasting,"
   ]
  },
  {
   "cell_type": "code",
   "execution_count": null,
   "metadata": {},
   "outputs": [],
   "source": [
    "A = np.array([0, 1, 2])\n",
    "print(A + 5, (A + 5).shape, '\\n')"
   ]
  },
  {
   "cell_type": "markdown",
   "metadata": {},
   "source": [
    "Quelle opération équivalente donne le même résultat sans broadcasting?"
   ]
  },
  {
   "cell_type": "markdown",
   "metadata": {},
   "source": [
    "Même question mais pour:"
   ]
  },
  {
   "cell_type": "code",
   "execution_count": null,
   "metadata": {},
   "outputs": [],
   "source": [
    "M = np.ones((3, 3))\n",
    "print(M, M.shape, '\\n')\n",
    "print(M + A, (M + A).shape, '\\n')"
   ]
  },
  {
   "cell_type": "markdown",
   "metadata": {},
   "source": [
    "De nombreuses **procédures mathématiques** peuvent être exécutées sur les arrays numpy."
   ]
  },
  {
   "cell_type": "code",
   "execution_count": null,
   "metadata": {},
   "outputs": [],
   "source": [
    "A =  np.array([3.1, 2.3, 9.1, -2.5, 12.1])\n",
    "print(np.min(A)) # obtenir le minimum\n",
    "print(np.argmin(A)) # obtenir l'indice du minimum \n",
    "print(np.mean(A)) # calcul de la moyenne\n",
    "print(np.sort(A)) # trier (par ordre croissant)"
   ]
  },
  {
   "cell_type": "markdown",
   "metadata": {},
   "source": [
    "**Remarque**: parfois une méthode peut être utilisée au lieu d'une fonction, e.g. ``A.mean()``. Personnellement, je préfère les fonctions car elles fonctionnent toujours(une méthode peut ne pas être définie pour un objet donné). "
   ]
  },
  {
   "cell_type": "markdown",
   "metadata": {},
   "source": [
    "**Exercice**: créez un array des entiers de 0 à 9, appliquez les fonctions précédentes."
   ]
  }
 ],
 "metadata": {
  "interpreter": {
   "hash": "8a894924a8054982a5c897c02f36d019274ceaf42c853aa8fb1f2ffcb169480b"
  },
  "kernelspec": {
   "display_name": "Python 3.8.8 64-bit ('base': conda)",
   "name": "python3"
  },
  "language_info": {
   "codemirror_mode": {
    "name": "ipython",
    "version": 3
   },
   "file_extension": ".py",
   "mimetype": "text/x-python",
   "name": "python",
   "nbconvert_exporter": "python",
   "pygments_lexer": "ipython3",
   "version": "3.8.8"
  },
  "orig_nbformat": 4
 },
 "nbformat": 4,
 "nbformat_minor": 2
}
