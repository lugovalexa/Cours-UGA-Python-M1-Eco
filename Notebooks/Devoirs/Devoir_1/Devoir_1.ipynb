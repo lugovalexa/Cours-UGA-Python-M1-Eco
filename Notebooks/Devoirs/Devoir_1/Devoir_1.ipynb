{
 "cells": [
  {
   "cell_type": "markdown",
   "metadata": {},
   "source": [
    "# Devoir 1: Résoudre le Problème du Consommateur"
   ]
  },
  {
   "cell_type": "markdown",
   "metadata": {},
   "source": [
    "Ce premier exercice pour sur la résolution numérique du problème du consommateur.  "
   ]
  },
  {
   "cell_type": "markdown",
   "metadata": {},
   "source": [
    "**Structure du devoir:** chaque devoir consiste en exercices et problèmes. Les premiers ont pour objet de s'entraîner à l'utilisation de techniques spécifiques. Les second portent sur l'application des techniques à des problèmes économiques. \n",
    "\n",
    "**Corrections:** elles seront déposés sur le dépôt github du cours et seront brièvement revues en séance.\n",
    "\n",
    "**Solutions multiples:** les solutions données ne sont qu'un exemple parmi les différentes façons de traiter un problème d'analyse numérique et d'aboutir à **la même solution**."
   ]
  },
  {
   "cell_type": "markdown",
   "metadata": {},
   "source": [
    "# Exercices"
   ]
  },
  {
   "cell_type": "markdown",
   "metadata": {},
   "source": [
    "## Fonctions"
   ]
  },
  {
   "cell_type": "markdown",
   "metadata": {},
   "source": [
    "Implémentez une version Python de la fonction suivante"
   ]
  },
  {
   "cell_type": "markdown",
   "metadata": {},
   "source": [
    "$$ \n",
    "u(q_1,q_2) = (\\alpha q_1^{-\\beta} + (1-\\alpha) q_2^{-\\beta})^{-1/\\beta} \n",
    "$$"
   ]
  },
  {
   "cell_type": "code",
   "execution_count": 1,
   "metadata": {},
   "outputs": [],
   "source": [
    "# réponse/code \n",
    "\n",
    "def u(q1,q2,alpha=0.5,beta=1):\n",
    "    return (alpha*q1**(-beta) + (1-alpha)*q2**(-beta))**(-1/beta)"
   ]
  },
  {
   "cell_type": "markdown",
   "metadata": {},
   "source": [
    "**Answer:**"
   ]
  },
  {
   "cell_type": "markdown",
   "metadata": {},
   "source": [
    "## Affichage"
   ]
  },
  {
   "cell_type": "code",
   "execution_count": 3,
   "metadata": {},
   "outputs": [],
   "source": [
    "q1_vec = [1.05,1.3,2.3,2.5,3.1]\n",
    "q2_vec = [1.05,1.3,2.3,2.5,3.1]"
   ]
  },
  {
   "cell_type": "markdown",
   "metadata": {},
   "source": [
    "Construire une fonction Python  `print_tableau(q1_vec,q2_vec)` pour afficher les valeurs `u(q1,q2)` sous la forme d'un tableau 4x4 où chaque entrée est un résultat de l'évaluation de `u(,.,)` selon les valeurs prises par `q1`et `q2` dans `q1_vec`et `q2_vec`. Vous pouvez vous appuyer sur le code suivant:"
   ]
  },
  {
   "cell_type": "code",
   "execution_count": 4,
   "metadata": {},
   "outputs": [],
   "source": [
    "# mettre à jour ce code\n",
    "\n",
    "def print_tableau(q1_vec,q2_vec):\n",
    "    \n",
    "    # a. texte vide\n",
    "    texte = ''\n",
    "    \n",
    "    # b. haut du tableau\n",
    "    texte += f'{\"\":3s}'\n",
    "    for j, q2 in enumerate(q2_vec):\n",
    "       texte += f'{j:6d}' \n",
    "    texte += '\\n' # saut de ligne\n",
    "    \n",
    "    # c. coeur\n",
    "    # à compléter\n",
    "    \n",
    "    # d. affichage\n",
    "    print(text) "
   ]
  },
  {
   "cell_type": "code",
   "execution_count": null,
   "metadata": {},
   "outputs": [],
   "source": [
    "# Réponse:\n",
    "\n",
    "def print_table(x1_vec,x2_vec):\n",
    "    \n",
    "    # a. texte vide\n",
    "    text = ''\n",
    "    \n",
    "    # b. haut du tableau\n",
    "    text += f'{\"\":3s}'\n",
    "    for j, x2 in enumerate(x2_vec):\n",
    "       text += f'{j:6d}' \n",
    "    text += '\\n' # saut de ligne\n",
    "    \n",
    "    # c. coeur\n",
    "    for i,x1 in enumerate(x1_vec):\n",
    "        if i > 0:\n",
    "            text += '\\n' # saut de ligne\n",
    "        text += f'{i:3d} ' # gauche\n",
    "        for j, x2 in enumerate(x2_vec):\n",
    "            text += f'{u(q1,q2):6.3f}'\n",
    "    \n",
    "    # d. affichage\n",
    "    print(text)\n",
    "\n",
    "print_table(x1_vec,x2_vec)"
   ]
  },
  {
   "cell_type": "markdown",
   "metadata": {},
   "source": [
    "## Calcul de la fonction d'utilité sur une grille."
   ]
  },
  {
   "cell_type": "markdown",
   "metadata": {},
   "source": [
    "Calculez la fonction d'utilité sur une grille(par exemple de 1 à 100)"
   ]
  },
  {
   "cell_type": "code",
   "execution_count": null,
   "metadata": {},
   "outputs": [],
   "source": [
    "# Votre réponse/code ici"
   ]
  },
  {
   "cell_type": "markdown",
   "metadata": {},
   "source": [
    "## Représentation graphique"
   ]
  },
  {
   "cell_type": "markdown",
   "metadata": {},
   "source": [
    "Représentez graphiquement la fonction d'utilité."
   ]
  },
  {
   "cell_type": "code",
   "execution_count": 1,
   "metadata": {},
   "outputs": [],
   "source": [
    "# Votre code ici"
   ]
  }
 ],
 "metadata": {
  "interpreter": {
   "hash": "8a894924a8054982a5c897c02f36d019274ceaf42c853aa8fb1f2ffcb169480b"
  },
  "kernelspec": {
   "display_name": "Python 3.8.8 64-bit ('base': conda)",
   "name": "python3"
  },
  "language_info": {
   "codemirror_mode": {
    "name": "ipython",
    "version": 3
   },
   "file_extension": ".py",
   "mimetype": "text/x-python",
   "name": "python",
   "nbconvert_exporter": "python",
   "pygments_lexer": "ipython3",
   "version": "3.8.8"
  },
  "toc-autonumbering": true
 },
 "nbformat": 4,
 "nbformat_minor": 4
}
