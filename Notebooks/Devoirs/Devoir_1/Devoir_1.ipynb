{
 "cells": [
  {
   "cell_type": "markdown",
   "metadata": {},
   "source": [
    "# Devoir 1: Résoudre le Problème du Consommateur"
   ]
  },
  {
   "cell_type": "markdown",
   "metadata": {},
   "source": [
    "Ce premier exercice pour sur la résolution numérique du problème du consommateur.  "
   ]
  },
  {
   "cell_type": "markdown",
   "metadata": {},
   "source": [
    "**Structure du devoir:** chaque devoir consiste en exercices et problèmes. Les premiers ont pour objet de s'entraîner à l'utilisation de techniques spécifiques. Les second portent sur l'application des techniques à des problèmes économiques. \n",
    "\n",
    "**Corrections:** elles seront déposés sur le dépôt github du cours et seront brièvement revues en séance.\n",
    "\n",
    "**Solutions multiples:** les solutions données ne sont qu'un exemple parmi les différentes façons de traiter un problème d'analyse numérique et d'aboutir à **la même solution**."
   ]
  },
  {
   "cell_type": "markdown",
   "metadata": {},
   "source": [
    "# Exercices"
   ]
  },
  {
   "cell_type": "markdown",
   "metadata": {},
   "source": [
    "## Fonctions"
   ]
  },
  {
   "cell_type": "markdown",
   "metadata": {},
   "source": [
    "Implémentez une version Python de la fonction suivante"
   ]
  },
  {
   "cell_type": "markdown",
   "metadata": {},
   "source": [
    "$$ \n",
    "u(q_1,q_2) = (\\alpha q_1^{-\\beta} + (1-\\alpha) q_2^{-\\beta})^{-1/\\beta} \n",
    "$$"
   ]
  },
  {
   "cell_type": "markdown",
   "metadata": {},
   "source": [
    "**Réponse**"
   ]
  },
  {
   "cell_type": "code",
   "execution_count": 10,
   "metadata": {},
   "outputs": [],
   "source": [
    "# réponse/code \n",
    "\n",
    "def u(q1,q2,alpha=0.5,beta=1):\n",
    "    return (alpha*q1**(-beta) + (1-alpha)*q2**(-beta))**(-1/beta)"
   ]
  },
  {
   "cell_type": "markdown",
   "metadata": {},
   "source": [
    "## Affichage"
   ]
  },
  {
   "cell_type": "code",
   "execution_count": 3,
   "metadata": {},
   "outputs": [],
   "source": [
    "q1_vec = [1.05,1.3,2.3,2.5,3.1]\n",
    "q2_vec = [1.05,1.3,2.3,2.5,3.1]"
   ]
  },
  {
   "cell_type": "markdown",
   "metadata": {},
   "source": [
    "Construire une fonction Python  `print_tableau(q1_vec,q2_vec)` pour afficher les valeurs `u(q1,q2)` sous la forme d'un tableau $ 5\\times 5 $ où chaque entrée est un résultat de l'évaluation de `u(,.,)` selon les valeurs prises par `q1`et `q2` dans `q1_vec`et `q2_vec`. Vous pouvez vous appuyer sur le code suivant:"
   ]
  },
  {
   "cell_type": "code",
   "execution_count": 4,
   "metadata": {},
   "outputs": [],
   "source": [
    "# mettre à jour ce code\n",
    "\n",
    "def print_tableau(q1_vec,q2_vec):\n",
    "    \n",
    "    # a. texte vide\n",
    "    texte = ''\n",
    "    \n",
    "    # b. haut du tableau\n",
    "    texte += f'{\"\":3s}'\n",
    "    for j, q2 in enumerate(q2_vec):\n",
    "       texte += f'{j:6d}' \n",
    "    texte += '\\n' # saut de ligne\n",
    "    \n",
    "    # c. coeur\n",
    "    # à compléter\n",
    "    \n",
    "    # d. affichage\n",
    "    print(text) "
   ]
  },
  {
   "cell_type": "code",
   "execution_count": 4,
   "metadata": {},
   "outputs": [
    {
     "name": "stdout",
     "output_type": "stream",
     "text": [
      "        0     1     2     3     4\n",
      "  0  1.050 1.162 1.442 1.479 1.569\n",
      "  1  1.162 1.300 1.661 1.711 1.832\n",
      "  2  1.442 1.661 2.300 2.396 2.641\n",
      "  3  1.479 1.711 2.396 2.500 2.768\n",
      "  4  1.569 1.832 2.641 2.768 3.100\n"
     ]
    }
   ],
   "source": [
    "# Réponse:\n",
    "\n",
    "def print_tableau(q1_vec,q2_vec):\n",
    "    \n",
    "    # a. texte vide\n",
    "    text = ''\n",
    "    \n",
    "    # b. haut du tableau\n",
    "    text += f'{\"\":3s}'\n",
    "    for j, q2 in enumerate(q2_vec):\n",
    "       text += f'{j:6d}' \n",
    "    text += '\\n' # saut de ligne\n",
    "    \n",
    "    # c. coeur\n",
    "    for i,q1 in enumerate(q1_vec):\n",
    "        if i > 0:\n",
    "            text += '\\n' # saut de ligne\n",
    "        text += f'{i:3d} ' # gauche\n",
    "        for j, q2 in enumerate(q2_vec):\n",
    "            text += f'{u(q1,q2):6.3f}'\n",
    "    \n",
    "    # d. affichage\n",
    "    print(text)\n",
    "\n",
    "print_tableau(q1_vec,q2_vec)"
   ]
  },
  {
   "cell_type": "markdown",
   "metadata": {},
   "source": [
    "## matplotlib"
   ]
  },
  {
   "cell_type": "markdown",
   "metadata": {},
   "source": [
    "Reproduire le graphique ci-dessous qui représente $u(q_1,q_2)$ en utilisant la fonction `meshgrid`  de _numpy_ et la fonction `plot_surface` de _matplotlib_. "
   ]
  },
  {
   "cell_type": "code",
   "execution_count": 4,
   "metadata": {},
   "outputs": [],
   "source": [
    "# évaluation de la fonction d'utilité \n",
    "import numpy as np\n",
    "q1_grid,q2_grid = np.meshgrid(q1_vec,q2_vec,indexing='ij')\n",
    "u_grid = u(q1_grid,q2_grid)\n",
    "\n",
    "# imports de modules\n",
    "%matplotlib inline\n",
    "import matplotlib.pyplot as plt\n",
    "plt.style.use('seaborn-whitegrid')\n",
    "from mpl_toolkits.mplot3d import Axes3D\n",
    "from matplotlib import cm # pour les couleurs\n",
    "\n",
    "# ajoutez votre code ici:"
   ]
  },
  {
   "cell_type": "markdown",
   "metadata": {},
   "source": [
    "**Réponse**"
   ]
  },
  {
   "cell_type": "code",
   "execution_count": 14,
   "metadata": {},
   "outputs": [
    {
     "data": {
      "image/png": "[encoded data removed]",
      "text/plain": [
       "<Figure size 432x288 with 1 Axes>"
      ]
     },
     "metadata": {},
     "output_type": "display_data"
    }
   ],
   "source": [
    "# a. graph\n",
    "fig = plt.figure()\n",
    "ax = fig.add_subplot(1,1,1,projection='3d')\n",
    "ax.plot_surface(q1_grid,q2_grid,u_grid,cmap=cm.jet)\n",
    "\n",
    "# b. ajout de labels\n",
    "ax.set_xlabel('$q_1$')\n",
    "ax.set_ylabel('$q_2$')\n",
    "ax.set_zlabel('$utilité,u$')\n",
    "\n",
    "# c. inversion des axes\n",
    "ax.invert_xaxis()"
   ]
  },
  {
   "cell_type": "markdown",
   "metadata": {},
   "source": [
    "## Optimisation "
   ]
  },
  {
   "cell_type": "markdown",
   "metadata": {},
   "source": [
    "Considérons le problème de minimisation:\n",
    "\n",
    "$$\n",
    "\\min_x  f(x) = \\min_x \\sin(x) + 0.05 \\cdot x^2\n",
    "$$"
   ]
  },
  {
   "cell_type": "markdown",
   "metadata": {},
   "source": [
    "Résoudre ce problème et illustrez les résultats."
   ]
  },
  {
   "cell_type": "code",
   "execution_count": null,
   "metadata": {},
   "outputs": [],
   "source": [
    "# mettre à jour le code suivant:\n",
    "\n",
    "# a. définition de la fonction\n",
    "def f(x):\n",
    "    return 0 # cette ligne est erronée\n",
    "\n",
    "# b. solution utilisant une boucle\n",
    "import numpy as np\n",
    "n = 100\n",
    "q_vec = np.linspace(-10,10,n)\n",
    "f_vec = np.empty(n)\n",
    "\n",
    "f_best = np.inf # maximum initial\n",
    "x_best = np.nan # ce n'est pas un nombre\n",
    "\n",
    "for i,x in enumerate(x_vec):\n",
    "    f_now = f_vec[i] = f(x)\n",
    "    # lignes manquantes\n",
    "\n",
    "# c. solution utilisant scipy optimize\n",
    "from scipy import optimize\n",
    "x_guess = [0]      \n",
    "# ligne manquante, indication: objective_function = lambda x: ? --> fonction objectif\n",
    "# ligne manquante, indication: res = optimize.minimize(?)\n",
    "# x_best_scipy = res.x[0]\n",
    "# f_best_scipy = res.fun\n",
    "\n",
    "# d. affichage\n",
    "# lignes manquantes\n",
    "\n",
    "# e. graphique\n",
    "# lignes manquante"
   ]
  },
  {
   "cell_type": "markdown",
   "metadata": {},
   "source": [
    "**Réponse:**"
   ]
  },
  {
   "cell_type": "code",
   "execution_count": 18,
   "metadata": {},
   "outputs": [
    {
     "name": "stdout",
     "output_type": "stream",
     "text": [
      "La meilleure boucle est -0.88366802 en x = -1.51515152\n",
      "Avec scipy.optimize, -0.88786283 en x = -1.42756250\n"
     ]
    },
    {
     "data": {
      "image/png": "[encoded data removed]",
      "text/plain": [
       "<Figure size 432x288 with 1 Axes>"
      ]
     },
     "metadata": {},
     "output_type": "display_data"
    }
   ],
   "source": [
    "# a. définition de la fonction\n",
    "def f(x):\n",
    "    return np.sin(x)+0.05*x**2\n",
    "\n",
    "# b. solution utilisant une boucle\n",
    "import numpy as np\n",
    "n = 100\n",
    "x_vec = np.linspace(-10,10,n)\n",
    "f_vec = np.empty(n)\n",
    "\n",
    "f_best = np.inf # maximum initial\n",
    "x_best = np.nan # ce n'est pas un nombre\n",
    "\n",
    "for i,x in enumerate(x_vec):\n",
    "    f_now = f_vec[i] = f(x)\n",
    "    if f_now < f_best:\n",
    "        x_best = x\n",
    "        f_best = f_now\n",
    "\n",
    "# c. solution avec scipy.optimize\n",
    "from scipy import optimize\n",
    "x_guess = [0]      \n",
    "objective_function = lambda x: f(x[0])\n",
    "res = optimize.minimize(objective_function, x_guess, method='Nelder-Mead')\n",
    "x_best_scipy = res.x[0]\n",
    "f_best_scipy = res.fun\n",
    "\n",
    "# d. affichage\n",
    "print(f'La meilleure boucle est {f_best:.8f} en x = {x_best:.8f}')\n",
    "print(f'Avec scipy.optimize, {f_best_scipy:.8f} en x = {x_best_scipy:.8f}')\n",
    "\n",
    "# e. graphique\n",
    "import matplotlib.pyplot as plt\n",
    "fig = plt.figure() # dpi = points-per-inch(pouces) (résolution)\n",
    "ax = fig.add_subplot(1,1,1)\n",
    "\n",
    "ax.plot(x_vec,f_vec,ls='--',lw=2,color='black',label='$f(x)$')\n",
    "ax.plot(x_best,f_best,ls='',marker='s',color='blue',label='loop')\n",
    "ax.plot(x_best_scipy,f_best_scipy,ls='',marker='o',\n",
    "        markersize=10,markerfacecolor='none',\n",
    "        markeredgecolor='red',label='scipy.optimize')\n",
    "\n",
    "ax.set_xlabel('$x$')\n",
    "ax.set_ylabel('$f$')\n",
    "ax.grid(True)\n",
    "ax.legend(loc='upper center');"
   ]
  },
  {
   "cell_type": "code",
   "execution_count": 16,
   "metadata": {},
   "outputs": [
    {
     "name": "stdout",
     "output_type": "stream",
     "text": [
      "[-10.          -7.77777778  -5.55555556  -3.33333333  -1.11111111\n",
      "   1.11111111   3.33333333   5.55555556   7.77777778  10.        ]\n",
      "0 -10.0\n",
      "1 -7.777777777777778\n",
      "2 -5.555555555555555\n",
      "3 -3.333333333333333\n",
      "4 -1.1111111111111107\n",
      "5 1.1111111111111107\n",
      "6 3.333333333333334\n",
      "7 5.555555555555557\n",
      "8 7.777777777777779\n",
      "9 10.0\n"
     ]
    }
   ],
   "source": [
    "import numpy as np\n",
    "n = 10\n",
    "x_vec = np.linspace(-10,10,n)\n",
    "print(x_vec)\n",
    "for i,x in enumerate(x_vec):\n",
    "    print(i, x)"
   ]
  },
  {
   "cell_type": "markdown",
   "metadata": {},
   "source": [
    "# Problème"
   ]
  },
  {
   "cell_type": "markdown",
   "metadata": {},
   "source": [
    "Considérons le panier à $M$ biens, $q=(q_1,q_2,\\dots,q_M)$, et le **problème de maximisation de l'utilité** avec un revenu exogène $R$, et le vecteur de prix $p=(p_1,p_2,\\dots,p_M)$,\n",
    "\n",
    "$$\n",
    "\\begin{align*}\n",
    "V(p_{1},p_{2},\\dots,,p_{M},I) & = \\max_{q_{1},q_{2},\\dots,q_M} q_{1}^{\\alpha_1} q_{2}^{\\alpha_2} \\dots q_{M}^{\\alpha_M} \\\\\n",
    " & \\text{s.t.}\\\\\n",
    "DT & = \\sum_{i=1}^{M}p_{i}q_{i} \\leq R,\\,\\,\\,p_{1},p_{2},\\dots,p_M,R>0\\\\\n",
    "q_{1},q_{2},\\dots,x_M & \\geq 0\n",
    "\\end{align*}\n",
    "$$"
   ]
  },
  {
   "cell_type": "markdown",
   "metadata": {},
   "source": [
    "**Problème:** résoudre ce problème dans le cas de paniers à 5 biens pour des paramètres $ \\alpha = (\\alpha_1,\\alpha_2, \\dots,\\alpha_5)$, des prix, et le revenu, arbitraires. Dans un premier temps utilisez une boucle, et ensuite un solveur numérique."
   ]
  },
  {
   "cell_type": "markdown",
   "metadata": {},
   "source": [
    "Vous pouvez utiliser les fonctions suivantes:"
   ]
  },
  {
   "cell_type": "code",
   "execution_count": null,
   "metadata": {},
   "outputs": [],
   "source": [
    "def utilite_fn(q,alpha):\n",
    "    # assurez vous que vous comprenez ce que fait la fonction\n",
    "\n",
    "    u = 1\n",
    "    for q_now,alpha_now in zip(q,alpha):\n",
    "        u *= np.max(q_now,0)**alpha_now\n",
    "    return u\n",
    "    \n",
    "def depenses_fn(q,p):\n",
    "    # ensure you understand what this function is doing\n",
    "\n",
    "    DT = 0\n",
    "    for x_now,p_now in zip(q,p):\n",
    "        DT += p_now*x_now\n",
    "    return DT\n",
    "\n",
    "def affichage_solution(q,alpha,R,p):\n",
    "    # vous pouvez utiliser cette fonction\n",
    "    \n",
    "    # a. x values\n",
    "    text = 'q = ['\n",
    "    for q_now in q:\n",
    "        text += f'{q_now:.2f} '\n",
    "    text += f']\\n'\n",
    "    \n",
    "    # b. utilité\n",
    "    u = utilite_fn(q,alpha)    \n",
    "    text += f'utilité = {u:.3f}\\n'\n",
    "    \n",
    "    # c. dépenses vs revenu\n",
    "    DT =  depenses_fn(q,p)\n",
    "    text += f'DT = {DT:.2f} <= R = {R:.2f}\\n'\n",
    "    \n",
    "    # d. parts dans les dépenses\n",
    "    dt = p*q/R\n",
    "    text += 'parts dans les des dépenses = ['\n",
    "    for dt_now in dt:\n",
    "        text += f'{dt_now:.2f} '\n",
    "    text += f']'        \n",
    "        \n",
    "    print(text)"
   ]
  },
  {
   "cell_type": "markdown",
   "metadata": {},
   "source": [
    "Vous pouvez retenir les valeurs suivantes des paramètres:"
   ]
  },
  {
   "cell_type": "code",
   "execution_count": null,
   "metadata": {},
   "outputs": [],
   "source": [
    "alpha = np.ones(5)/5\n",
    "p = np.array([1,2,3,4,5])\n",
    "R = 10"
   ]
  },
  {
   "cell_type": "code",
   "execution_count": null,
   "metadata": {},
   "outputs": [],
   "source": [
    "# Votre réponse/code ici"
   ]
  },
  {
   "cell_type": "markdown",
   "metadata": {},
   "source": [
    "Solution avec une boucle"
   ]
  }
 ],
 "metadata": {
  "interpreter": {
   "hash": "8a894924a8054982a5c897c02f36d019274ceaf42c853aa8fb1f2ffcb169480b"
  },
  "kernelspec": {
   "display_name": "Python 3.8.8 64-bit ('base': conda)",
   "name": "python3"
  },
  "language_info": {
   "codemirror_mode": {
    "name": "ipython",
    "version": 3
   },
   "file_extension": ".py",
   "mimetype": "text/x-python",
   "name": "python",
   "nbconvert_exporter": "python",
   "pygments_lexer": "ipython3",
   "version": "3.8.8"
  },
  "toc-autonumbering": true
 },
 "nbformat": 4,
 "nbformat_minor": 4
}
