{
 "cells": [
  {
   "cell_type": "markdown",
   "source": [
    "# Introduction"
   ],
   "metadata": {}
  },
  {
   "cell_type": "markdown",
   "source": [
    "Dans cette introduction nous allons donner un très court aperçu des possibilités d'utilisation du langage Python pour l'économiste. Pour cela:\n",
    "- nous allons présenter des exemples de simulation de modèles simples de l'économie,\n",
    "- des exemples du travail empirique pouvant être fait."
   ],
   "metadata": {}
  },
  {
   "cell_type": "markdown",
   "source": [
    "**Résumé:** Un notebook Jupyter est un document composé de **cellules** qui contiennent:\n",
    "- Le code de programmation qui dans notre cas sera du code Python.\n",
    "- Du texte dont du texte mathématiques écrit dans le \"style\" de LaTex. Ces cellules sont des cellules *markdown*.\n",
    "- Des résultats issus de l'execution du code programmé."
   ],
   "metadata": {}
  },
  {
   "cell_type": "markdown",
   "source": [
    "Ainsi, ceci est une cellule avec du texte et plus précisément cellule *markdown*."
   ],
   "metadata": {}
  },
  {
   "cell_type": "markdown",
   "source": [
    "On peut y écrire sous forme de listes:\n",
    "\n",
    "1. **Première** entrée.\n",
    "2. *Deuxième* entrée.\n",
    "3. ~~Troisième~~ item entrée barrée."
   ],
   "metadata": {}
  },
  {
   "cell_type": "markdown",
   "source": [
    "On peut écrire de maths, e.g. $\\alpha^2$ ou"
   ],
   "metadata": {}
  },
  {
   "cell_type": "markdown",
   "source": [
    "$$\n",
    "X = \\int_0^{\\infty} \\frac{x}{x+1} \\mathrm{d}x\n",
    "$$"
   ],
   "metadata": {}
  },
  {
   "cell_type": "code",
   "execution_count": null,
   "source": [
    "# Ceci est une cellule de code\n",
    "x = 10   # Ce qui est écrit après un \"#\" est du \"commentaire\" du code, il n'est donc pas exécuté\n",
    "\n",
    "# Procédons à des calculs\n",
    "a = 20\n",
    "b = 30\n",
    "c = a + b\n",
    "\n",
    "# Affichons les résultats (au-dessous de cette cellule)\n",
    "print(c)"
   ],
   "outputs": [],
   "metadata": {}
  },
  {
   "cell_type": "markdown",
   "source": [
    "On peut comme ici écrire un peu plus de texte(cellule *markdown*) et poursuivre les calculs(cellules de code)."
   ],
   "metadata": {}
  },
  {
   "cell_type": "code",
   "execution_count": null,
   "source": [
    "d = c * 2\n",
    "print(d)\n",
    "print(c)"
   ],
   "outputs": [],
   "metadata": {}
  },
  {
   "cell_type": "markdown",
   "source": [
    "**Remarque:** \n",
    "\n",
    "Bien que JupyterLab/Jupyter s'execute avec un serveur, cela se fait sans besoin de connexion web (le chemin étant quelque chose comme *localhost:8888/lab*).<br>"
   ],
   "metadata": {}
  },
  {
   "cell_type": "markdown",
   "source": [
    "**Binder:** Une exception est d'utiliser [binder](https://mybinder.org), dans ce cas JupyterLab s'executera sur un cloud."
   ],
   "metadata": {}
  },
  {
   "cell_type": "markdown",
   "source": [
    "# Résoudre le problème du consommateur.\n",
    "\n",
    "On considère ici l'exemple classique des manuels de cours de Microéconomie que vous avez vu dans vos études."
   ],
   "metadata": {}
  },
  {
   "cell_type": "markdown",
   "source": [
    "Le problème est le suivant:"
   ],
   "metadata": {}
  },
  {
   "cell_type": "markdown",
   "source": [
    "$$\n",
    "\\begin{align*}\n",
    "V(p_{1},p_{2},I) & = \\max_{q_{1},q_{2}} q_{1}^{\\alpha}q_{2}^{1-\\alpha}\\\\\n",
    " & \\text{s.c.}\\\\\n",
    "p_{1}q_{1}+p_{2}q_{2} & \\leq R, \\quad p_{1}, p_{2}, R > 0, \\quad q_{1},q_{2}  \\geq 0\n",
    "\\end{align*}\n",
    "$$"
   ],
   "metadata": {}
  },
  {
   "cell_type": "markdown",
   "source": [
    "On peut résoudre ce problème **numériquement**."
   ],
   "metadata": {}
  },
  {
   "cell_type": "markdown",
   "source": [
    "1. Choix de **paramètres**:"
   ],
   "metadata": {}
  },
  {
   "cell_type": "code",
   "execution_count": null,
   "source": [
    "alpha = 0.5\n",
    "R = 10\n",
    "p1 = 1\n",
    "p2 = 2"
   ],
   "outputs": [],
   "metadata": {}
  },
  {
   "cell_type": "markdown",
   "source": [
    "2. La **fonction objectif** du consommateur est:"
   ],
   "metadata": {}
  },
  {
   "cell_type": "code",
   "execution_count": null,
   "source": [
    "# On définit la fonction objectif.\n",
    "def val_cons(q1, alpha, R, p1, p2): \n",
    "    \n",
    "    # a. Tout le revenu n'est pas dépensé sur le premier bien\n",
    "    #    Et ce qui est dépensé dans le deuxième est:\n",
    "    q2 = (R - p1*q1) / p2 \n",
    "    \n",
    "    # b. L'utilité obtenue est:\n",
    "    util = q1**alpha*q2**(1-alpha)\n",
    "    \n",
    "    return util # résultat produit par la fonction"
   ],
   "outputs": [],
   "metadata": {}
  },
  {
   "cell_type": "markdown",
   "source": [
    "3. On utilise une fonction du module *scipy* pour **résoudre le problème**."
   ],
   "metadata": {}
  },
  {
   "cell_type": "code",
   "execution_count": null,
   "source": [
    "# a. On importe à partir du module scipy la fonction optimize\n",
    "from scipy import optimize\n",
    "\n",
    "# b. la valeur du choix comme seulement fonction de q1\n",
    "obj = lambda q1: -val_cons(q1, alpha, R, p1, p2)\n",
    "\n",
    "# c. on appelle la fonction minimisatrice\n",
    "solution = optimize.minimize_scalar(obj, bounds=(0, R/p1))\n",
    "\n",
    "# d. affichage des résultats\n",
    "q1 = solution.x\n",
    "q2 = (R - q1*p1) / p2\n",
    "print(q1, q2)"
   ],
   "outputs": [],
   "metadata": {}
  },
  {
   "cell_type": "markdown",
   "source": [
    "**Tâche**: résoudre le même problème avec la fonction d'utilité CES.\n",
    "\n",
    "$$\n",
    "u(q_1,q_2) = (\\alpha q_1^{-\\beta} + (1-\\alpha) x_2^{-\\beta})^{-1/\\beta}\n",
    "$$"
   ],
   "metadata": {}
  },
  {
   "cell_type": "code",
   "execution_count": null,
   "source": [
    "# a. choix des paramètres\n",
    "alpha = 0.5\n",
    "beta = 0.000001\n",
    "R = 10\n",
    "p1 = 1\n",
    "p2 = 2\n",
    "\n",
    "# b. valeur du choix\n",
    "def val_cons_ces(q1, alpha, beta, R, p1, p2):\n",
    "    q2 = (R - p1*q1)/p2\n",
    "    if q1 > 0 and q2 > 0:\n",
    "        util = (alpha*q1**(-beta) + (1 - alpha)*q2**(-beta))**(-1 / beta) \n",
    "    else:\n",
    "        util = 0\n",
    "    return util\n",
    "\n",
    "# c. objectif\n",
    "obj = lambda q1: -val_cons_ces(q1, alpha, beta, R, p1, p2)\n",
    "\n",
    "# d. solution\n",
    "solution = optimize.minimize_scalar(obj, bounds=(0, R/p1))\n",
    "\n",
    "# e. résultat\n",
    "q1 = solution.x\n",
    "q2 = (R - q1 * p1)/p2\n",
    "print(q1, q2)"
   ],
   "outputs": [],
   "metadata": {}
  },
  {
   "cell_type": "markdown",
   "source": [
    "# Simulation du modèle AS-AD\n",
    "\n",
    "**Remarque**: c'est un modèle macroéconomique pour [l'offre et la demande globales dans une économie](https://fr.wikipedia.org/wiki/Mod%C3%A8le_OG-DG)."
   ],
   "metadata": {}
  },
  {
   "cell_type": "markdown",
   "source": [
    "Soit le modèle défini par:\n",
    "\n",
    "$$\n",
    "\\begin{align*}\n",
    "\\hat{y}_{t} &= b\\hat{y}_{t - 1}+\\beta(z_{t} - z_{t-1}) -a\\beta s_{t} + a\\beta\\phi s_{t-1} \\\\\n",
    "\\hat{\\pi}_{t} &= b\\hat{\\pi}_{t - 1}+\\beta\\gamma z_{t} - \\beta\\phi\\gamma z_{t}+\\beta s_{t} - \\beta\\phi s_{t-1} \\\\\n",
    "z_{t} &= \\delta z_{t - 1}+x_{t}, x_{t} \\sim N(0, \\sigma_x^2) \\\\\n",
    "s_{t} &= \\omega s_{t - 1}+c_{t}, c_{t} \\sim N(0, \\sigma_c^2) \\\\\n",
    "b &= \\frac{1 + a\\phi\\gamma}{1 + a\\gamma} \\\\\n",
    "\\beta &= \\frac{1}{1 + a\\gamma}\n",
    "\\end{align*}\n",
    "$$\n",
    "\n",
    "où $\\hat{y}_{t}$ est l'écart de production, $\\hat{\\pi}_{t}$ est l'écart d'inflation, $z_{t}$ est un choc de demande AR(1), et $\\hat{s}_{t}$ est un chox d'offre AR(1)."
   ],
   "metadata": {}
  },
  {
   "cell_type": "markdown",
   "source": [
    "1. Choix de **paramètres**:"
   ],
   "metadata": {}
  },
  {
   "cell_type": "code",
   "execution_count": null,
   "source": [
    "a = 0.4\n",
    "gamma = 0.1\n",
    "phi = 0.9\n",
    "delta = 0.8\n",
    "omega = 0.15\n",
    "sigma_x = 1\n",
    "sigma_c = 0.4\n",
    "T = 100"
   ],
   "outputs": [],
   "metadata": {}
  },
  {
   "cell_type": "markdown",
   "source": [
    "2. Calcul des **paramètres composites**:"
   ],
   "metadata": {}
  },
  {
   "cell_type": "code",
   "execution_count": null,
   "source": [
    "b = (1 + a*phi*gamma)/(1 + a*gamma)\n",
    "beta = 1/(1 + a*gamma) "
   ],
   "outputs": [],
   "metadata": {}
  },
  {
   "cell_type": "markdown",
   "source": [
    "3. Définition des **fonctions du modèle**:"
   ],
   "metadata": {}
  },
  {
   "cell_type": "code",
   "execution_count": null,
   "source": [
    "y_hat_func = lambda y_hat_lag, z,z_lag, s, s_lag: b*y_hat_lag + beta*(z-z_lag) - a*beta*s + a*beta*phi*s_lag\n",
    "pi_hat_func = lambda pi_lag,z,z_lag,s,s_lag: b*pi_lag + beta*gamma*z - beta*phi*gamma*z_lag + beta*s - beta*phi*s_lag\n",
    "z_func = lambda z_lag,x: delta*z_lag + x\n",
    "s_func = lambda s_lag,c: omega*s_lag + c"
   ],
   "outputs": [],
   "metadata": {}
  },
  {
   "cell_type": "markdown",
   "source": [
    "4. On execute la **simulation**:"
   ],
   "metadata": {}
  },
  {
   "cell_type": "code",
   "execution_count": null,
   "source": [
    "import numpy as np # importation du module numpy\n",
    "\n",
    "# a. mise en place du générateur de nombre aléatoires\n",
    "np.random.seed(2015)   \n",
    "\n",
    "# b. affectation des données simulées\n",
    "x = np.random.normal(loc=0, scale=sigma_x, size=T)\n",
    "c = np.random.normal(loc=0, scale=sigma_c, size=T)\n",
    "z = np.zeros(T)\n",
    "s = np.zeros(T)\n",
    "y_hat = np.zeros(T)\n",
    "pi_hat = np.zeros(T)\n",
    "\n",
    "# c. execution de la simulation\n",
    "for t in range(1,T):\n",
    "\n",
    "    # i. actualisation de z et s\n",
    "    z[t] = z_func(z[t-1], x[t])\n",
    "    s[t] = s_func(s[t-1], c[t])\n",
    "\n",
    "    # ii. calcul de y og pi \n",
    "    y_hat[t] = y_hat_func(y_hat[t-1], z[t], z[t-1], s[t], s[t-1])\n",
    "    pi_hat[t] = pi_hat_func(pi_hat[t-1], z[t], z[t-1], s[t], s[t-1])"
   ],
   "outputs": [],
   "metadata": {}
  },
  {
   "cell_type": "markdown",
   "source": [
    "5. **Visualisation** de la simulation:"
   ],
   "metadata": {}
  },
  {
   "cell_type": "code",
   "execution_count": null,
   "source": [
    "import matplotlib.pyplot as plt\n",
    "%matplotlib inline\n",
    "\n",
    "fig = plt.figure()\n",
    "ax = fig.add_subplot(1,1,1)\n",
    "\n",
    "ax.plot(y_hat, label='$\\\\hat{y}$')\n",
    "ax.plot(pi_hat, label='$\\\\hat{\\pi}$')\n",
    "\n",
    "ax.set_xlabel('temps')\n",
    "\n",
    "ax.set_ylabel('pourcentage')\n",
    "ax.set_ylim([-8,8])\n",
    "\n",
    "ax.legend(loc='upper left');"
   ],
   "outputs": [],
   "metadata": {}
  },
  {
   "cell_type": "markdown",
   "source": [
    "On peut aussi utiliser **le style seaborn**:"
   ],
   "metadata": {}
  },
  {
   "cell_type": "code",
   "execution_count": null,
   "source": [
    "plt.style.use('seaborn-whitegrid')\n",
    "\n",
    "fig = plt.figure()\n",
    "ax = fig.add_subplot(1,1,1)\n",
    "\n",
    "ax.plot(y_hat,label='$\\\\hat{y}$')\n",
    "ax.plot(pi_hat,label='$\\\\hat{pi}$')\n",
    "\n",
    "ax.set_xlabel('temps')\n",
    "\n",
    "ax.set_ylabel('poucentage')\n",
    "ax.set_ylim([-8,8])\n",
    "\n",
    "ax.legend(loc='upper left',facecolor='white',frameon='True');"
   ],
   "outputs": [],
   "metadata": {}
  },
  {
   "cell_type": "markdown",
   "source": [
    "# Modules"
   ],
   "metadata": {}
  },
  {
   "cell_type": "markdown",
   "source": [
    "Un **module** est un fichier **.py**-file avec des fonctions qu'on importe et auxquelle on peut alors faire appel dans le noebook.\n",
    "\n",
    "Try to open **mymodule.py** and have a look."
   ],
   "metadata": {}
  },
  {
   "cell_type": "code",
   "execution_count": null,
   "source": [
    "import monmodule"
   ],
   "outputs": [],
   "metadata": {}
  },
  {
   "cell_type": "code",
   "execution_count": null,
   "source": [
    "x = 5\n",
    "y = monmodule.mafonction(x)\n",
    "print(y)"
   ],
   "outputs": [],
   "metadata": {}
  },
  {
   "cell_type": "markdown",
   "source": [
    "# Analyse de données"
   ],
   "metadata": {}
  },
  {
   "cell_type": "markdown",
   "source": [
    "## Enquête Emploi de 2012\n",
    "\n",
    "On utilise un extrait des données de l'enquête emploi de l'Insee pour 2012 pour mesurer l'écart salarial entre femmes et hommes."
   ],
   "metadata": {}
  },
  {
   "cell_type": "code",
   "execution_count": null,
   "source": [
    "import pandas as pd\n",
    "import seaborn as sns\n",
    "import statsmodels.api as sm"
   ],
   "outputs": [],
   "metadata": {}
  },
  {
   "cell_type": "code",
   "execution_count": null,
   "source": [
    "eemploi = pd.read_csv('/Users/michalurdanivia/Documents/GitHub/Cours-UGA-Python-L3-Eco'\\\n",
    "    '/Autres/Donnees/Enquete_Emploi_2012/eemploi2012_s0.csv', low_memory=False) \n",
    "eemploi = eemploi[['ACTEU', 'SEXE', 'DDIPL', 'FORDAT', 'MATRI', 'TYPMEN5', 'ZUS', 'REG','AG', \n",
    "             'AGQ', 'AGEQ','AGE','AG5','NBENF3', 'NBENF6', 'NBENF18', 'SALRED', 'NBHEUR', \n",
    "             'NATPERC','NATMERC', 'PAIPERC','PAIMERC','TRIM', 'RGI', 'IDENT', 'NOI', \n",
    "             'DIP', 'DIP11','CONTRA','CSER', 'CSPM', 'CSPP', 'ANNEE', 'CHPUB', 'NAFG4N', \n",
    "             'ANCENTR4', 'exper', 'adfe', 'lsalhor']]\n",
    "\n",
    "eemploi.info()"
   ],
   "outputs": [],
   "metadata": {}
  },
  {
   "cell_type": "code",
   "execution_count": null,
   "source": [
    "df = eemploi[(eemploi.ACTEU == 1) & (eemploi.NAFG4N !='00') & (eemploi.CSER !=0)]\n",
    "df = df.dropna()\n",
    "df['lsal'] = np.log(df['SALRED']/df['NBHEUR']\n",
    "df['afe'] = df['FORDAT'] - (2012 - df['AG'])\n",
    "df['exp'] = df['AG'] - df['afe']\n",
    "dummies = df[['DDIPL', 'MATRI', 'REG', 'ZUS', 'CSER', 'NAFG4N', 'ANCENTR4', 'SEXE']]\n",
    "dummies = pd.get_dummies(data = dummies, columns=['DDIPL', 'MATRI', 'REG', 'ZUS', 'CSER', 'NAFG4N', 'ANCENTR4', 'SEXE'])\n",
    "df = pd.concat([df, dummies], axis = 1)\n",
    "listvar = ['lsal', 'exp'] + list(dummies)\n",
    "df[listvar].describe()"
   ],
   "outputs": [],
   "metadata": {}
  },
  {
   "cell_type": "code",
   "execution_count": null,
   "source": [
    "lsal_tab = df.groupby([\"DDIPL\", \"SEXE\", \"CSER\"])['lsal'].mean().unstack(level=\"SEXE\")\n",
    "lsal_tab"
   ],
   "outputs": [],
   "metadata": {}
  },
  {
   "cell_type": "code",
   "execution_count": null,
   "source": [
    "import patsy\n",
    "formula = \"\"\"\n",
    "lsal ~ SEXE_2\n",
    "       + (C(DDIPL) + C(ANCENTR4) + C(NAFG4N) + C(REG) + C(CSER) + C(MATRI))**2 \n",
    "       + exp + I(exp**2) + I(exp**3) + I(exp**4)      \n",
    "\"\"\"\n",
    "Y, X = patsy.dmatrices(formula, df, return_type = \"dataframe\")"
   ],
   "outputs": [],
   "metadata": {}
  },
  {
   "cell_type": "code",
   "execution_count": null,
   "source": [
    "linreg_ols0 = sm.OLS(endog = Y, exog = X[['Intercept','SEXE_2']], missing = 'drop').fit(cov_type='HC0')\n",
    "linreg_ols1 = sm.OLS(endog = Y, exog = X, missing = 'drop').fit(cov_type='HC0')\n",
    "from stargazer.stargazer import Stargazer, LineLocation\n",
    "stargazer = Stargazer([linreg_ols0 , linreg_ols1])\n",
    "stargazer.covariate_order(['SEXE_2'])\n",
    "stargazer"
   ],
   "outputs": [],
   "metadata": {}
  }
 ],
 "metadata": {
  "kernelspec": {
   "name": "python3",
   "display_name": "Python 3.8.8 64-bit ('base': conda)"
  },
  "language_info": {
   "codemirror_mode": {
    "name": "ipython",
    "version": 3
   },
   "file_extension": ".py",
   "mimetype": "text/x-python",
   "name": "python",
   "nbconvert_exporter": "python",
   "pygments_lexer": "ipython3",
   "version": "3.8.8"
  },
  "toc-autonumbering": true,
  "interpreter": {
   "hash": "6c5e886fea06f7140bdfeaacc5132f10f8431bb82bdf3f614d06b7f9c313022e"
  }
 },
 "nbformat": 4,
 "nbformat_minor": 4
}