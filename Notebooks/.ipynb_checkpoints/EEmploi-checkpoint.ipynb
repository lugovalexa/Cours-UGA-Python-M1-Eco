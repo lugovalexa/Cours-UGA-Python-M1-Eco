{
 "cells": [
  {
   "cell_type": "code",
   "execution_count": 1,
   "source": [
    "import pandas as pd "
   ],
   "outputs": [],
   "metadata": {}
  },
  {
   "cell_type": "code",
   "execution_count": 3,
   "source": [
    "# Change the path to the file \"eemploi2012_s0.csv\" if needed\n",
    "df = pd.read_csv('/Volumes/GoogleDrive/Mon Drive/Eemploi2012/eemploi2012.csv', low_memory=False) \n",
    "# Information on the variables selected from the extract(see the dictionary)\n"
   ],
   "outputs": [
    {
     "output_type": "stream",
     "name": "stdout",
     "text": [
      "<class 'pandas.core.frame.DataFrame'>\n",
      "RangeIndex: 422133 entries, 0 to 422132\n",
      "Columns: 549 entries, AAC to ZUS\n",
      "dtypes: float64(416), int64(89), object(44)\n",
      "memory usage: 1.7+ GB\n"
     ]
    }
   ],
   "metadata": {}
  },
  {
   "cell_type": "code",
   "execution_count": 6,
   "source": [
    "print(df.info())\n",
    "df.shape"
   ],
   "outputs": [
    {
     "output_type": "stream",
     "name": "stdout",
     "text": [
      "<class 'pandas.core.frame.DataFrame'>\n",
      "RangeIndex: 422133 entries, 0 to 422132\n",
      "Columns: 549 entries, AAC to ZUS\n",
      "dtypes: float64(416), int64(89), object(44)\n",
      "memory usage: 1.7+ GB\n",
      "None\n"
     ]
    },
    {
     "output_type": "execute_result",
     "data": {
      "text/plain": [
       "(422133, 549)"
      ]
     },
     "metadata": {},
     "execution_count": 6
    }
   ],
   "metadata": {}
  },
  {
   "cell_type": "code",
   "execution_count": null,
   "source": [
    "eemploi = pd.read_csv('/Volumes/INTENSO/Temp/Donnees/eemploitemp/eemploi2012_s0.csv', low_memory=False) \n",
    "eemploi.shape # dimensions du fichiers: nombre de lignes/observations x nombre de colonnes/variables.\n",
    "eemploi = eemploi[['ACTEU', 'SEXE', 'DDIPL', 'FORDAT', 'MATRI', 'TYPMEN5', 'ZUS', 'REG','AG', \n",
    "             'AGQ', 'AGEQ','AGE','AG5','NBENF3', 'NBENF6', 'NBENF18', 'SALRED', 'NBHEUR', \n",
    "             'NATPERC','NATMERC', 'PAIPERC','PAIMERC','TRIM', 'RGI', 'IDENT', 'NOI', \n",
    "             'DIP', 'DIP11','CONTRA','CSER', 'CSPM', 'CSPP', 'ANNEE', 'CHPUB', 'NAFG4N', \n",
    "             'ANCENTR4', 'exper', 'adfe', 'lsalhor']]\n",
    "\n",
    ".\n",
    "eemploi.info()\n",
    "# Variables construites:\n",
    "# lhsalhor: salaire horaire\n",
    "# experience du travail"
   ],
   "outputs": [],
   "metadata": {}
  }
 ],
 "metadata": {
  "orig_nbformat": 4,
  "language_info": {
   "name": "python",
   "version": "3.8.8",
   "mimetype": "text/x-python",
   "codemirror_mode": {
    "name": "ipython",
    "version": 3
   },
   "pygments_lexer": "ipython3",
   "nbconvert_exporter": "python",
   "file_extension": ".py"
  },
  "kernelspec": {
   "name": "python3",
   "display_name": "Python 3.8.8 64-bit ('base': conda)"
  },
  "interpreter": {
   "hash": "6c5e886fea06f7140bdfeaacc5132f10f8431bb82bdf3f614d06b7f9c313022e"
  }
 },
 "nbformat": 4,
 "nbformat_minor": 2
}